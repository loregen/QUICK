{
 "cells": [
  {
   "cell_type": "code",
   "execution_count": 2,
   "metadata": {},
   "outputs": [
    {
     "name": "stdout",
     "output_type": "stream",
     "text": [
      "TensorFlow version:  2.13.0\n"
     ]
    }
   ],
   "source": [
    "import tensorflow as tf\n",
    "import numpy as np\n",
    "import pyaudio\n",
    "from IPython.display import display\n",
    "from IPython.display import clear_output\n",
    "import ipywidgets as widgets\n",
    "import time\n",
    "import matplotlib.pyplot as plt\n",
    "import ipywidgets as widgets\n",
    "import larq as lq\n",
    "import audioop\n",
    "import pathlib\n",
    "\n",
    "print(\"TensorFlow version: \", tf.__version__)\n",
    "\n",
    "is_recording = True"
   ]
  },
  {
   "cell_type": "code",
   "execution_count": 3,
   "metadata": {},
   "outputs": [
    {
     "name": "stdout",
     "output_type": "stream",
     "text": [
      "Label names:  ['left', 'no', 'right', 'stop', 'yes']\n"
     ]
    }
   ],
   "source": [
    "#Dataset Path\n",
    "\n",
    "DATASET_PATH = \"./current_classes\"\n",
    "\n",
    "data_dir = pathlib.Path(DATASET_PATH)\n",
    "\n",
    "label_names = np.array(tf.io.gfile.listdir(str(data_dir)))\n",
    "label_names = label_names[(label_names != 'README.md') & (label_names != '.DS_Store')]\n",
    "label_names = sorted(label_names)\n",
    "print(\"Label names: \", label_names)"
   ]
  },
  {
   "cell_type": "code",
   "execution_count": 4,
   "metadata": {},
   "outputs": [
    {
     "name": "stdout",
     "output_type": "stream",
     "text": [
      "Model: \"sequential\"\n",
      "_________________________________________________________________\n",
      " Layer (type)                Output Shape              Param #   \n",
      "=================================================================\n",
      " custom_quantize_layer (Cus  (None, 124, 129, 1)       0         \n",
      " tomQuantizeLayer)                                               \n",
      "                                                                 \n",
      " quant_conv2d (QuantConv2D)  (None, 114, 119, 32)      3872      \n",
      "                                                                 \n",
      " max_pooling2d (MaxPooling2  (None, 38, 39, 32)        0         \n",
      " D)                                                              \n",
      "                                                                 \n",
      " batch_normalization (Batch  (None, 38, 39, 32)        128       \n",
      " Normalization)                                                  \n",
      "                                                                 \n",
      " dropout (Dropout)           (None, 38, 39, 32)        0         \n",
      "                                                                 \n",
      " custom_quantize_layer_1 (C  (None, 38, 39, 32)        0         \n",
      " ustomQuantizeLayer)                                             \n",
      "                                                                 \n",
      " quant_conv2d_1 (QuantConv2  (None, 34, 35, 32)        25600     \n",
      " D)                                                              \n",
      "                                                                 \n",
      " max_pooling2d_1 (MaxPoolin  (None, 17, 17, 32)        0         \n",
      " g2D)                                                            \n",
      "                                                                 \n",
      " batch_normalization_1 (Bat  (None, 17, 17, 32)        128       \n",
      " chNormalization)                                                \n",
      "                                                                 \n",
      " dropout_1 (Dropout)         (None, 17, 17, 32)        0         \n",
      "                                                                 \n",
      " custom_quantize_layer_2 (C  (None, 17, 17, 32)        0         \n",
      " ustomQuantizeLayer)                                             \n",
      "                                                                 \n",
      " quant_conv2d_2 (QuantConv2  (None, 15, 15, 32)        9216      \n",
      " D)                                                              \n",
      "                                                                 \n",
      " batch_normalization_2 (Bat  (None, 15, 15, 32)        128       \n",
      " chNormalization)                                                \n",
      "                                                                 \n",
      " dropout_2 (Dropout)         (None, 15, 15, 32)        0         \n",
      "                                                                 \n",
      " flatten (Flatten)           (None, 7200)              0         \n",
      "                                                                 \n",
      " custom_quantize_layer_3 (C  (None, 7200)              0         \n",
      " ustomQuantizeLayer)                                             \n",
      "                                                                 \n",
      " quant_dense (QuantDense)    (None, 5)                 36000     \n",
      "                                                                 \n",
      " batch_normalization_3 (Bat  (None, 5)                 20        \n",
      " chNormalization)                                                \n",
      "                                                                 \n",
      " dropout_3 (Dropout)         (None, 5)                 0         \n",
      "                                                                 \n",
      " activation (Activation)     (None, 5)                 0         \n",
      "                                                                 \n",
      "=================================================================\n",
      "Total params: 75092 (293.33 KB)\n",
      "Trainable params: 74890 (292.54 KB)\n",
      "Non-trainable params: 202 (808.00 Byte)\n",
      "_________________________________________________________________\n"
     ]
    }
   ],
   "source": [
    "#Import saved model with quantized weights\n",
    "from tensorflow.keras.models import load_model\n",
    "\n",
    "FILE_PATH = \"./saved_models/model95-5classes\"\n",
    "\n",
    "with lq.context.quantized_scope(True):\n",
    "    model = load_model(FILE_PATH)\n",
    "    weights = model.get_weights()\n",
    "    \n",
    "model.summary()"
   ]
  },
  {
   "cell_type": "code",
   "execution_count": 5,
   "metadata": {},
   "outputs": [],
   "source": [
    "def preprocess_audio(audio):\n",
    "    #add a dimension of one to first axis\n",
    "    audio = np.expand_dims(audio, axis=0)\n",
    "\n",
    "    #convert to float32\n",
    "    audio = tf.cast(audio, tf.float32)\n",
    "\n",
    "    spectrogram = tf.signal.stft(audio, frame_length=255, frame_step=128)\n",
    "    spectrogram = tf.abs(spectrogram)\n",
    "    spectrogram = spectrogram[..., tf.newaxis]\n",
    "\n",
    "    return spectrogram\n"
   ]
  },
  {
   "cell_type": "code",
   "execution_count": 6,
   "metadata": {},
   "outputs": [],
   "source": [
    "def record_audio():\n",
    "    sample_rate = 16000\n",
    "    duration = 1  # 1 second\n",
    "    chunk_size = 1024\n",
    "    num_chunks = int(sample_rate * duration / chunk_size)\n",
    "\n",
    "    p = pyaudio.PyAudio()\n",
    "    stream = p.open(format=pyaudio.paInt16, channels=1, rate=sample_rate, input=True, frames_per_buffer=chunk_size)\n",
    "\n",
    "    frames = []\n",
    "\n",
    "    # Record the remaining chunks\n",
    "    for _ in range(num_chunks - 1):\n",
    "        data = stream.read(chunk_size)\n",
    "        frames.append(np.frombuffer(data, dtype=np.int16))\n",
    "\n",
    "    stream.stop_stream()\n",
    "    stream.close()\n",
    "    p.terminate()\n",
    "\n",
    "    audio = np.concatenate(frames)\n",
    "\n",
    "    # Pad the recorded audio if the length is less than 16000 samples\n",
    "    if len(audio) < 16000:\n",
    "        audio = np.pad(audio, (0, 16000 - len(audio)), 'constant')\n",
    "\n",
    "    if audioop.rms(audio, 2) < 800:\n",
    "        return audio, False\n",
    "    \n",
    "    # Normalize the audio samples\n",
    "    audio = audio.astype(np.float32) / 32767.0\n",
    "\n",
    "    return audio, True\n",
    "\n"
   ]
  },
  {
   "cell_type": "code",
   "execution_count": 7,
   "metadata": {},
   "outputs": [],
   "source": [
    "def predict_from_audio(model):\n",
    "    global is_recording\n",
    "    while is_recording:\n",
    "        audio, isOverThreshold = record_audio()\n",
    "        if len(audio) > 0 and isOverThreshold:  # Only process audio if it has data (above threshold)\n",
    "            #print audio sample with matplotlib, small figure\n",
    "            clear_output(wait=True)\n",
    "            plt.figure(figsize=(5, 2))        \n",
    "            plt.plot(audio)\n",
    "            plt.show()\n",
    "            spectrogram = preprocess_audio(audio)\n",
    "\n",
    "            #plot spectrogram with matplotlib\n",
    "            plt.figure(figsize=(3, 3))\n",
    "            plt.imshow(tf.squeeze(spectrogram))\n",
    "            plt.show()\n",
    "\n",
    "            predicted_word = model.predict(spectrogram)\n",
    "            print(\"Predicted word:\", label_names[np.argmax(predicted_word)])\n",
    "            time.sleep(0.2)  # You can adjust the sleep duration to control the loop frequency\n"
   ]
  },
  {
   "cell_type": "code",
   "execution_count": null,
   "metadata": {},
   "outputs": [
    {
     "data": {
      "image/png": "[encoded data removed]",
      "text/plain": [
       "<Figure size 360x144 with 1 Axes>"
      ]
     },
     "metadata": {
      "needs_background": "light"
     },
     "output_type": "display_data"
    },
    {
     "data": {
      "image/png": "[encoded data removed]",
      "text/plain": [
       "<Figure size 216x216 with 1 Axes>"
      ]
     },
     "metadata": {
      "needs_background": "light"
     },
     "output_type": "display_data"
    },
    {
     "name": "stdout",
     "output_type": "stream",
     "text": [
      "1/1 [==============================] - 0s 81ms/step\n",
      "Predicted word: stop\n"
     ]
    }
   ],
   "source": [
    "button = widgets.Button(description=\"Start listening\")\n",
    "button.on_click(lambda x: predict_from_audio(model))"
   ]
  },
  {
   "cell_type": "code",
   "execution_count": 9,
   "metadata": {},
   "outputs": [],
   "source": [
    "def stop_recording():\n",
    "    global is_recording\n",
    "    is_recording = False\n",
    "    print(\"Stopped recording\")\n",
    "\n",
    "stop_button = widgets.Button(description=\"Stop listening\")\n",
    "stop_button.on_click(lambda x: stop_recording())\n"
   ]
  },
  {
   "cell_type": "code",
   "execution_count": 10,
   "metadata": {},
   "outputs": [
    {
     "data": {
      "application/vnd.jupyter.widget-view+json": {
       "model_id": "4dd1823f260042459751002d5e2278a1",
       "version_major": 2,
       "version_minor": 0
      },
      "text/plain": [
       "Button(description='Start listening', style=ButtonStyle())"
      ]
     },
     "metadata": {},
     "output_type": "display_data"
    },
    {
     "data": {
      "application/vnd.jupyter.widget-view+json": {
       "model_id": "83420a982fe145d2baf81662faa696c0",
       "version_major": 2,
       "version_minor": 0
      },
      "text/plain": [
       "Button(description='Stop listening', style=ButtonStyle())"
      ]
     },
     "metadata": {},
     "output_type": "display_data"
    }
   ],
   "source": [
    "display(button)\n",
    "display(stop_button)"
   ]
  }
 ],
 "metadata": {
  "kernelspec": {
   "display_name": "Python 3",
   "language": "python",
   "name": "python3"
  },
  "language_info": {
   "codemirror_mode": {
    "name": "ipython",
    "version": 3
   },
   "file_extension": ".py",
   "mimetype": "text/x-python",
   "name": "python",
   "nbconvert_exporter": "python",
   "pygments_lexer": "ipython3",
   "version": "3.8.18"
  },
  "orig_nbformat": 4
 },
 "nbformat": 4,
 "nbformat_minor": 2
}
